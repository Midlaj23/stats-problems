{
 "cells": [
  {
   "cell_type": "code",
   "execution_count": 2,
   "id": "50c7d110",
   "metadata": {},
   "outputs": [],
   "source": [
    "import pandas as pd"
   ]
  },
  {
   "cell_type": "code",
   "execution_count": 3,
   "id": "13f95f51",
   "metadata": {},
   "outputs": [
    {
     "data": {
      "text/html": [
       "<div>\n",
       "<style scoped>\n",
       "    .dataframe tbody tr th:only-of-type {\n",
       "        vertical-align: middle;\n",
       "    }\n",
       "\n",
       "    .dataframe tbody tr th {\n",
       "        vertical-align: top;\n",
       "    }\n",
       "\n",
       "    .dataframe thead th {\n",
       "        text-align: right;\n",
       "    }\n",
       "</style>\n",
       "<table border=\"1\" class=\"dataframe\">\n",
       "  <thead>\n",
       "    <tr style=\"text-align: right;\">\n",
       "      <th></th>\n",
       "      <th>total_bill</th>\n",
       "      <th>tip</th>\n",
       "      <th>sex</th>\n",
       "      <th>smoker</th>\n",
       "      <th>day</th>\n",
       "      <th>time</th>\n",
       "      <th>size</th>\n",
       "    </tr>\n",
       "  </thead>\n",
       "  <tbody>\n",
       "    <tr>\n",
       "      <th>0</th>\n",
       "      <td>16.99</td>\n",
       "      <td>1.01</td>\n",
       "      <td>Female</td>\n",
       "      <td>No</td>\n",
       "      <td>Sun</td>\n",
       "      <td>Dinner</td>\n",
       "      <td>2</td>\n",
       "    </tr>\n",
       "    <tr>\n",
       "      <th>1</th>\n",
       "      <td>10.34</td>\n",
       "      <td>1.66</td>\n",
       "      <td>Male</td>\n",
       "      <td>No</td>\n",
       "      <td>Sun</td>\n",
       "      <td>Dinner</td>\n",
       "      <td>3</td>\n",
       "    </tr>\n",
       "    <tr>\n",
       "      <th>2</th>\n",
       "      <td>21.01</td>\n",
       "      <td>3.50</td>\n",
       "      <td>Male</td>\n",
       "      <td>No</td>\n",
       "      <td>Sun</td>\n",
       "      <td>Dinner</td>\n",
       "      <td>3</td>\n",
       "    </tr>\n",
       "    <tr>\n",
       "      <th>3</th>\n",
       "      <td>23.68</td>\n",
       "      <td>3.31</td>\n",
       "      <td>Male</td>\n",
       "      <td>No</td>\n",
       "      <td>Sun</td>\n",
       "      <td>Dinner</td>\n",
       "      <td>2</td>\n",
       "    </tr>\n",
       "    <tr>\n",
       "      <th>4</th>\n",
       "      <td>24.59</td>\n",
       "      <td>3.61</td>\n",
       "      <td>Female</td>\n",
       "      <td>No</td>\n",
       "      <td>Sun</td>\n",
       "      <td>Dinner</td>\n",
       "      <td>4</td>\n",
       "    </tr>\n",
       "    <tr>\n",
       "      <th>...</th>\n",
       "      <td>...</td>\n",
       "      <td>...</td>\n",
       "      <td>...</td>\n",
       "      <td>...</td>\n",
       "      <td>...</td>\n",
       "      <td>...</td>\n",
       "      <td>...</td>\n",
       "    </tr>\n",
       "    <tr>\n",
       "      <th>239</th>\n",
       "      <td>29.03</td>\n",
       "      <td>5.92</td>\n",
       "      <td>Male</td>\n",
       "      <td>No</td>\n",
       "      <td>Sat</td>\n",
       "      <td>Dinner</td>\n",
       "      <td>3</td>\n",
       "    </tr>\n",
       "    <tr>\n",
       "      <th>240</th>\n",
       "      <td>27.18</td>\n",
       "      <td>2.00</td>\n",
       "      <td>Female</td>\n",
       "      <td>Yes</td>\n",
       "      <td>Sat</td>\n",
       "      <td>Dinner</td>\n",
       "      <td>2</td>\n",
       "    </tr>\n",
       "    <tr>\n",
       "      <th>241</th>\n",
       "      <td>22.67</td>\n",
       "      <td>2.00</td>\n",
       "      <td>Male</td>\n",
       "      <td>Yes</td>\n",
       "      <td>Sat</td>\n",
       "      <td>Dinner</td>\n",
       "      <td>2</td>\n",
       "    </tr>\n",
       "    <tr>\n",
       "      <th>242</th>\n",
       "      <td>17.82</td>\n",
       "      <td>1.75</td>\n",
       "      <td>Male</td>\n",
       "      <td>No</td>\n",
       "      <td>Sat</td>\n",
       "      <td>Dinner</td>\n",
       "      <td>2</td>\n",
       "    </tr>\n",
       "    <tr>\n",
       "      <th>243</th>\n",
       "      <td>18.78</td>\n",
       "      <td>3.00</td>\n",
       "      <td>Female</td>\n",
       "      <td>No</td>\n",
       "      <td>Thur</td>\n",
       "      <td>Dinner</td>\n",
       "      <td>2</td>\n",
       "    </tr>\n",
       "  </tbody>\n",
       "</table>\n",
       "<p>244 rows × 7 columns</p>\n",
       "</div>"
      ],
      "text/plain": [
       "     total_bill   tip     sex smoker   day    time  size\n",
       "0         16.99  1.01  Female     No   Sun  Dinner     2\n",
       "1         10.34  1.66    Male     No   Sun  Dinner     3\n",
       "2         21.01  3.50    Male     No   Sun  Dinner     3\n",
       "3         23.68  3.31    Male     No   Sun  Dinner     2\n",
       "4         24.59  3.61  Female     No   Sun  Dinner     4\n",
       "..          ...   ...     ...    ...   ...     ...   ...\n",
       "239       29.03  5.92    Male     No   Sat  Dinner     3\n",
       "240       27.18  2.00  Female    Yes   Sat  Dinner     2\n",
       "241       22.67  2.00    Male    Yes   Sat  Dinner     2\n",
       "242       17.82  1.75    Male     No   Sat  Dinner     2\n",
       "243       18.78  3.00  Female     No  Thur  Dinner     2\n",
       "\n",
       "[244 rows x 7 columns]"
      ]
     },
     "execution_count": 3,
     "metadata": {},
     "output_type": "execute_result"
    }
   ],
   "source": [
    "tips = pd.read_csv(r\"C:\\Users\\Lenovo\\Desktop\\seaborn-data\\tips.csv\")\n",
    "tips"
   ]
  },
  {
   "cell_type": "markdown",
   "id": "af403d4f",
   "metadata": {},
   "source": [
    "#### Mean of total bill"
   ]
  },
  {
   "cell_type": "code",
   "execution_count": 8,
   "id": "254ab13b",
   "metadata": {},
   "outputs": [
    {
     "data": {
      "text/plain": [
       "19.78594262295082"
      ]
     },
     "execution_count": 8,
     "metadata": {},
     "output_type": "execute_result"
    }
   ],
   "source": [
    "bill_mean = tips['total_bill'].mean()\n",
    "bill_mean"
   ]
  },
  {
   "cell_type": "markdown",
   "id": "2ee00b20",
   "metadata": {},
   "source": [
    "###### Range of total bill"
   ]
  },
  {
   "cell_type": "code",
   "execution_count": 4,
   "id": "7da4d1fe",
   "metadata": {},
   "outputs": [
    {
     "data": {
      "text/plain": [
       "47.74"
      ]
     },
     "execution_count": 4,
     "metadata": {},
     "output_type": "execute_result"
    }
   ],
   "source": [
    "tips['total_bill'].max() - tips['total_bill'].min()"
   ]
  },
  {
   "cell_type": "markdown",
   "id": "33b60aa7",
   "metadata": {},
   "source": [
    "##### Variance of total bill "
   ]
  },
  {
   "cell_type": "code",
   "execution_count": 21,
   "id": "2c323da4",
   "metadata": {},
   "outputs": [
    {
     "data": {
      "text/plain": [
       "79.25293861397826"
      ]
     },
     "execution_count": 21,
     "metadata": {},
     "output_type": "execute_result"
    }
   ],
   "source": [
    "tips['total_bill'].var()"
   ]
  },
  {
   "cell_type": "markdown",
   "id": "3941cb26",
   "metadata": {},
   "source": [
    "##### Standard Deviation of total bill"
   ]
  },
  {
   "cell_type": "code",
   "execution_count": 12,
   "id": "505ddae1",
   "metadata": {},
   "outputs": [
    {
     "data": {
      "text/plain": [
       "8.902411954856856"
      ]
     },
     "execution_count": 12,
     "metadata": {},
     "output_type": "execute_result"
    }
   ],
   "source": [
    "bill_standard_deviation = tips['total_bill'].std()\n",
    "bill_standard_deviation"
   ]
  },
  {
   "cell_type": "markdown",
   "id": "1a9c6c14",
   "metadata": {},
   "source": [
    "##### First Standard Deviation of total bill (Upper bound)"
   ]
  },
  {
   "cell_type": "code",
   "execution_count": 14,
   "id": "5321db73",
   "metadata": {},
   "outputs": [
    {
     "data": {
      "text/plain": [
       "28.688354577807676"
      ]
     },
     "execution_count": 14,
     "metadata": {},
     "output_type": "execute_result"
    }
   ],
   "source": [
    "bill_mean + bill_standard_deviation"
   ]
  },
  {
   "cell_type": "markdown",
   "id": "4a715455",
   "metadata": {},
   "source": [
    "##### Second Standard Deviation of total bill (Upper bound)"
   ]
  },
  {
   "cell_type": "code",
   "execution_count": 15,
   "id": "0b775cab",
   "metadata": {},
   "outputs": [
    {
     "data": {
      "text/plain": [
       "37.59076653266453"
      ]
     },
     "execution_count": 15,
     "metadata": {},
     "output_type": "execute_result"
    }
   ],
   "source": [
    "bill_mean + (2*bill_standard_deviation)"
   ]
  },
  {
   "cell_type": "markdown",
   "id": "639a299d",
   "metadata": {},
   "source": [
    "##### Third Standard Deviation of total bill (Upper bound)"
   ]
  },
  {
   "cell_type": "code",
   "execution_count": 16,
   "id": "5c7a8abc",
   "metadata": {},
   "outputs": [
    {
     "data": {
      "text/plain": [
       "46.49317848752139"
      ]
     },
     "execution_count": 16,
     "metadata": {},
     "output_type": "execute_result"
    }
   ],
   "source": [
    "bill_mean + (3*bill_standard_deviation)"
   ]
  },
  {
   "cell_type": "markdown",
   "id": "515dc389",
   "metadata": {},
   "source": [
    "##### First Standard Deviation of total bill (Lower bound)"
   ]
  },
  {
   "cell_type": "code",
   "execution_count": 18,
   "id": "e4dbe185",
   "metadata": {},
   "outputs": [
    {
     "data": {
      "text/plain": [
       "10.883530668093965"
      ]
     },
     "execution_count": 18,
     "metadata": {},
     "output_type": "execute_result"
    }
   ],
   "source": [
    "bill_mean - bill_standard_deviation"
   ]
  },
  {
   "cell_type": "markdown",
   "id": "206d7d8c",
   "metadata": {},
   "source": [
    "##### Second Standard Deviation of total bill (Lower bound)"
   ]
  },
  {
   "cell_type": "code",
   "execution_count": 19,
   "id": "1b3fe396",
   "metadata": {},
   "outputs": [
    {
     "data": {
      "text/plain": [
       "1.9811187132371089"
      ]
     },
     "execution_count": 19,
     "metadata": {},
     "output_type": "execute_result"
    }
   ],
   "source": [
    "bill_mean - (2*bill_standard_deviation)"
   ]
  },
  {
   "cell_type": "markdown",
   "id": "a1b76104",
   "metadata": {},
   "source": [
    "##### Third Standard Deviation of total bill (Lower bound)"
   ]
  },
  {
   "cell_type": "code",
   "execution_count": 20,
   "id": "6f97d7fb",
   "metadata": {},
   "outputs": [
    {
     "data": {
      "text/plain": [
       "-6.921293241619747"
      ]
     },
     "execution_count": 20,
     "metadata": {},
     "output_type": "execute_result"
    }
   ],
   "source": [
    "bill_mean - (3*bill_standard_deviation)"
   ]
  },
  {
   "cell_type": "code",
   "execution_count": 22,
   "id": "45bc9a48",
   "metadata": {},
   "outputs": [
    {
     "data": {
      "text/html": [
       "<div>\n",
       "<style scoped>\n",
       "    .dataframe tbody tr th:only-of-type {\n",
       "        vertical-align: middle;\n",
       "    }\n",
       "\n",
       "    .dataframe tbody tr th {\n",
       "        vertical-align: top;\n",
       "    }\n",
       "\n",
       "    .dataframe thead th {\n",
       "        text-align: right;\n",
       "    }\n",
       "</style>\n",
       "<table border=\"1\" class=\"dataframe\">\n",
       "  <thead>\n",
       "    <tr style=\"text-align: right;\">\n",
       "      <th></th>\n",
       "      <th>pickup</th>\n",
       "      <th>dropoff</th>\n",
       "      <th>passengers</th>\n",
       "      <th>distance</th>\n",
       "      <th>fare</th>\n",
       "      <th>tip</th>\n",
       "      <th>tolls</th>\n",
       "      <th>total</th>\n",
       "      <th>color</th>\n",
       "      <th>payment</th>\n",
       "      <th>pickup_zone</th>\n",
       "      <th>dropoff_zone</th>\n",
       "      <th>pickup_borough</th>\n",
       "      <th>dropoff_borough</th>\n",
       "    </tr>\n",
       "  </thead>\n",
       "  <tbody>\n",
       "    <tr>\n",
       "      <th>0</th>\n",
       "      <td>2019-03-23 20:21:09</td>\n",
       "      <td>2019-03-23 20:27:24</td>\n",
       "      <td>1</td>\n",
       "      <td>1.60</td>\n",
       "      <td>7.0</td>\n",
       "      <td>2.15</td>\n",
       "      <td>0.0</td>\n",
       "      <td>12.95</td>\n",
       "      <td>yellow</td>\n",
       "      <td>credit card</td>\n",
       "      <td>Lenox Hill West</td>\n",
       "      <td>UN/Turtle Bay South</td>\n",
       "      <td>Manhattan</td>\n",
       "      <td>Manhattan</td>\n",
       "    </tr>\n",
       "    <tr>\n",
       "      <th>1</th>\n",
       "      <td>2019-03-04 16:11:55</td>\n",
       "      <td>2019-03-04 16:19:00</td>\n",
       "      <td>1</td>\n",
       "      <td>0.79</td>\n",
       "      <td>5.0</td>\n",
       "      <td>0.00</td>\n",
       "      <td>0.0</td>\n",
       "      <td>9.30</td>\n",
       "      <td>yellow</td>\n",
       "      <td>cash</td>\n",
       "      <td>Upper West Side South</td>\n",
       "      <td>Upper West Side South</td>\n",
       "      <td>Manhattan</td>\n",
       "      <td>Manhattan</td>\n",
       "    </tr>\n",
       "    <tr>\n",
       "      <th>2</th>\n",
       "      <td>2019-03-27 17:53:01</td>\n",
       "      <td>2019-03-27 18:00:25</td>\n",
       "      <td>1</td>\n",
       "      <td>1.37</td>\n",
       "      <td>7.5</td>\n",
       "      <td>2.36</td>\n",
       "      <td>0.0</td>\n",
       "      <td>14.16</td>\n",
       "      <td>yellow</td>\n",
       "      <td>credit card</td>\n",
       "      <td>Alphabet City</td>\n",
       "      <td>West Village</td>\n",
       "      <td>Manhattan</td>\n",
       "      <td>Manhattan</td>\n",
       "    </tr>\n",
       "    <tr>\n",
       "      <th>3</th>\n",
       "      <td>2019-03-10 01:23:59</td>\n",
       "      <td>2019-03-10 01:49:51</td>\n",
       "      <td>1</td>\n",
       "      <td>7.70</td>\n",
       "      <td>27.0</td>\n",
       "      <td>6.15</td>\n",
       "      <td>0.0</td>\n",
       "      <td>36.95</td>\n",
       "      <td>yellow</td>\n",
       "      <td>credit card</td>\n",
       "      <td>Hudson Sq</td>\n",
       "      <td>Yorkville West</td>\n",
       "      <td>Manhattan</td>\n",
       "      <td>Manhattan</td>\n",
       "    </tr>\n",
       "    <tr>\n",
       "      <th>4</th>\n",
       "      <td>2019-03-30 13:27:42</td>\n",
       "      <td>2019-03-30 13:37:14</td>\n",
       "      <td>3</td>\n",
       "      <td>2.16</td>\n",
       "      <td>9.0</td>\n",
       "      <td>1.10</td>\n",
       "      <td>0.0</td>\n",
       "      <td>13.40</td>\n",
       "      <td>yellow</td>\n",
       "      <td>credit card</td>\n",
       "      <td>Midtown East</td>\n",
       "      <td>Yorkville West</td>\n",
       "      <td>Manhattan</td>\n",
       "      <td>Manhattan</td>\n",
       "    </tr>\n",
       "    <tr>\n",
       "      <th>...</th>\n",
       "      <td>...</td>\n",
       "      <td>...</td>\n",
       "      <td>...</td>\n",
       "      <td>...</td>\n",
       "      <td>...</td>\n",
       "      <td>...</td>\n",
       "      <td>...</td>\n",
       "      <td>...</td>\n",
       "      <td>...</td>\n",
       "      <td>...</td>\n",
       "      <td>...</td>\n",
       "      <td>...</td>\n",
       "      <td>...</td>\n",
       "      <td>...</td>\n",
       "    </tr>\n",
       "    <tr>\n",
       "      <th>6428</th>\n",
       "      <td>2019-03-31 09:51:53</td>\n",
       "      <td>2019-03-31 09:55:27</td>\n",
       "      <td>1</td>\n",
       "      <td>0.75</td>\n",
       "      <td>4.5</td>\n",
       "      <td>1.06</td>\n",
       "      <td>0.0</td>\n",
       "      <td>6.36</td>\n",
       "      <td>green</td>\n",
       "      <td>credit card</td>\n",
       "      <td>East Harlem North</td>\n",
       "      <td>Central Harlem North</td>\n",
       "      <td>Manhattan</td>\n",
       "      <td>Manhattan</td>\n",
       "    </tr>\n",
       "    <tr>\n",
       "      <th>6429</th>\n",
       "      <td>2019-03-31 17:38:00</td>\n",
       "      <td>2019-03-31 18:34:23</td>\n",
       "      <td>1</td>\n",
       "      <td>18.74</td>\n",
       "      <td>58.0</td>\n",
       "      <td>0.00</td>\n",
       "      <td>0.0</td>\n",
       "      <td>58.80</td>\n",
       "      <td>green</td>\n",
       "      <td>credit card</td>\n",
       "      <td>Jamaica</td>\n",
       "      <td>East Concourse/Concourse Village</td>\n",
       "      <td>Queens</td>\n",
       "      <td>Bronx</td>\n",
       "    </tr>\n",
       "    <tr>\n",
       "      <th>6430</th>\n",
       "      <td>2019-03-23 22:55:18</td>\n",
       "      <td>2019-03-23 23:14:25</td>\n",
       "      <td>1</td>\n",
       "      <td>4.14</td>\n",
       "      <td>16.0</td>\n",
       "      <td>0.00</td>\n",
       "      <td>0.0</td>\n",
       "      <td>17.30</td>\n",
       "      <td>green</td>\n",
       "      <td>cash</td>\n",
       "      <td>Crown Heights North</td>\n",
       "      <td>Bushwick North</td>\n",
       "      <td>Brooklyn</td>\n",
       "      <td>Brooklyn</td>\n",
       "    </tr>\n",
       "    <tr>\n",
       "      <th>6431</th>\n",
       "      <td>2019-03-04 10:09:25</td>\n",
       "      <td>2019-03-04 10:14:29</td>\n",
       "      <td>1</td>\n",
       "      <td>1.12</td>\n",
       "      <td>6.0</td>\n",
       "      <td>0.00</td>\n",
       "      <td>0.0</td>\n",
       "      <td>6.80</td>\n",
       "      <td>green</td>\n",
       "      <td>credit card</td>\n",
       "      <td>East New York</td>\n",
       "      <td>East Flatbush/Remsen Village</td>\n",
       "      <td>Brooklyn</td>\n",
       "      <td>Brooklyn</td>\n",
       "    </tr>\n",
       "    <tr>\n",
       "      <th>6432</th>\n",
       "      <td>2019-03-13 19:31:22</td>\n",
       "      <td>2019-03-13 19:48:02</td>\n",
       "      <td>1</td>\n",
       "      <td>3.85</td>\n",
       "      <td>15.0</td>\n",
       "      <td>3.36</td>\n",
       "      <td>0.0</td>\n",
       "      <td>20.16</td>\n",
       "      <td>green</td>\n",
       "      <td>credit card</td>\n",
       "      <td>Boerum Hill</td>\n",
       "      <td>Windsor Terrace</td>\n",
       "      <td>Brooklyn</td>\n",
       "      <td>Brooklyn</td>\n",
       "    </tr>\n",
       "  </tbody>\n",
       "</table>\n",
       "<p>6433 rows × 14 columns</p>\n",
       "</div>"
      ],
      "text/plain": [
       "                   pickup              dropoff  passengers  distance  fare  \\\n",
       "0     2019-03-23 20:21:09  2019-03-23 20:27:24           1      1.60   7.0   \n",
       "1     2019-03-04 16:11:55  2019-03-04 16:19:00           1      0.79   5.0   \n",
       "2     2019-03-27 17:53:01  2019-03-27 18:00:25           1      1.37   7.5   \n",
       "3     2019-03-10 01:23:59  2019-03-10 01:49:51           1      7.70  27.0   \n",
       "4     2019-03-30 13:27:42  2019-03-30 13:37:14           3      2.16   9.0   \n",
       "...                   ...                  ...         ...       ...   ...   \n",
       "6428  2019-03-31 09:51:53  2019-03-31 09:55:27           1      0.75   4.5   \n",
       "6429  2019-03-31 17:38:00  2019-03-31 18:34:23           1     18.74  58.0   \n",
       "6430  2019-03-23 22:55:18  2019-03-23 23:14:25           1      4.14  16.0   \n",
       "6431  2019-03-04 10:09:25  2019-03-04 10:14:29           1      1.12   6.0   \n",
       "6432  2019-03-13 19:31:22  2019-03-13 19:48:02           1      3.85  15.0   \n",
       "\n",
       "       tip  tolls  total   color      payment            pickup_zone  \\\n",
       "0     2.15    0.0  12.95  yellow  credit card        Lenox Hill West   \n",
       "1     0.00    0.0   9.30  yellow         cash  Upper West Side South   \n",
       "2     2.36    0.0  14.16  yellow  credit card          Alphabet City   \n",
       "3     6.15    0.0  36.95  yellow  credit card              Hudson Sq   \n",
       "4     1.10    0.0  13.40  yellow  credit card           Midtown East   \n",
       "...    ...    ...    ...     ...          ...                    ...   \n",
       "6428  1.06    0.0   6.36   green  credit card      East Harlem North   \n",
       "6429  0.00    0.0  58.80   green  credit card                Jamaica   \n",
       "6430  0.00    0.0  17.30   green         cash    Crown Heights North   \n",
       "6431  0.00    0.0   6.80   green  credit card          East New York   \n",
       "6432  3.36    0.0  20.16   green  credit card            Boerum Hill   \n",
       "\n",
       "                          dropoff_zone pickup_borough dropoff_borough  \n",
       "0                  UN/Turtle Bay South      Manhattan       Manhattan  \n",
       "1                Upper West Side South      Manhattan       Manhattan  \n",
       "2                         West Village      Manhattan       Manhattan  \n",
       "3                       Yorkville West      Manhattan       Manhattan  \n",
       "4                       Yorkville West      Manhattan       Manhattan  \n",
       "...                                ...            ...             ...  \n",
       "6428              Central Harlem North      Manhattan       Manhattan  \n",
       "6429  East Concourse/Concourse Village         Queens           Bronx  \n",
       "6430                    Bushwick North       Brooklyn        Brooklyn  \n",
       "6431      East Flatbush/Remsen Village       Brooklyn        Brooklyn  \n",
       "6432                   Windsor Terrace       Brooklyn        Brooklyn  \n",
       "\n",
       "[6433 rows x 14 columns]"
      ]
     },
     "execution_count": 22,
     "metadata": {},
     "output_type": "execute_result"
    }
   ],
   "source": [
    "taxis  = pd.read_csv(r\"C:\\Users\\Lenovo\\Desktop\\seaborn-data\\taxis.csv\")\n",
    "taxis"
   ]
  },
  {
   "cell_type": "markdown",
   "id": "fe737ad5",
   "metadata": {},
   "source": [
    "##### Mean of Fare"
   ]
  },
  {
   "cell_type": "code",
   "execution_count": 24,
   "id": "cc0e0dab",
   "metadata": {},
   "outputs": [
    {
     "data": {
      "text/plain": [
       "13.091072594434944"
      ]
     },
     "execution_count": 24,
     "metadata": {},
     "output_type": "execute_result"
    }
   ],
   "source": [
    "fare_mean = taxis['fare'].mean()\n",
    "fare_mean"
   ]
  },
  {
   "cell_type": "markdown",
   "id": "ea9f2237",
   "metadata": {},
   "source": [
    "##### Range of Fare"
   ]
  },
  {
   "cell_type": "code",
   "execution_count": 25,
   "id": "883b77fa",
   "metadata": {},
   "outputs": [
    {
     "data": {
      "text/plain": [
       "149.0"
      ]
     },
     "execution_count": 25,
     "metadata": {},
     "output_type": "execute_result"
    }
   ],
   "source": [
    "taxis['fare'].max() - taxis['fare'].min()"
   ]
  },
  {
   "cell_type": "markdown",
   "id": "eec48791",
   "metadata": {},
   "source": [
    "##### Variance of Fare"
   ]
  },
  {
   "cell_type": "code",
   "execution_count": 26,
   "id": "8ff88957",
   "metadata": {},
   "outputs": [
    {
     "data": {
      "text/plain": [
       "133.4441818095617"
      ]
     },
     "execution_count": 26,
     "metadata": {},
     "output_type": "execute_result"
    }
   ],
   "source": [
    "taxis['fare'].var()"
   ]
  },
  {
   "cell_type": "markdown",
   "id": "885a43d1",
   "metadata": {},
   "source": [
    "##### Standard deviation of fare"
   ]
  },
  {
   "cell_type": "code",
   "execution_count": 28,
   "id": "620b9453",
   "metadata": {},
   "outputs": [
    {
     "data": {
      "text/plain": [
       "11.55180426641491"
      ]
     },
     "execution_count": 28,
     "metadata": {},
     "output_type": "execute_result"
    }
   ],
   "source": [
    "fare_standard_deviation = taxis['fare'].std()\n",
    "fare_standard_deviation"
   ]
  },
  {
   "cell_type": "markdown",
   "id": "892d0150",
   "metadata": {},
   "source": [
    "##### First Standard deviation of fare (Upper bound)"
   ]
  },
  {
   "cell_type": "code",
   "execution_count": 29,
   "id": "af4ec52f",
   "metadata": {},
   "outputs": [
    {
     "data": {
      "text/plain": [
       "24.642876860849853"
      ]
     },
     "execution_count": 29,
     "metadata": {},
     "output_type": "execute_result"
    }
   ],
   "source": [
    "fare_mean + fare_standard_deviation"
   ]
  },
  {
   "cell_type": "markdown",
   "id": "c9005011",
   "metadata": {},
   "source": [
    "##### Second Standard deviation of fare (Upper bound)"
   ]
  },
  {
   "cell_type": "code",
   "execution_count": 30,
   "id": "dbb1d640",
   "metadata": {},
   "outputs": [
    {
     "data": {
      "text/plain": [
       "36.194681127264765"
      ]
     },
     "execution_count": 30,
     "metadata": {},
     "output_type": "execute_result"
    }
   ],
   "source": [
    "fare_mean + (2*fare_standard_deviation)"
   ]
  },
  {
   "cell_type": "markdown",
   "id": "1f720298",
   "metadata": {},
   "source": [
    "##### Third Standard deviation of fare (Upper bound)"
   ]
  },
  {
   "cell_type": "code",
   "execution_count": 41,
   "id": "37b560f5",
   "metadata": {},
   "outputs": [
    {
     "data": {
      "text/plain": [
       "47.74648539367968"
      ]
     },
     "execution_count": 41,
     "metadata": {},
     "output_type": "execute_result"
    }
   ],
   "source": [
    "fare_mean + (3*fare_standard_deviation)"
   ]
  },
  {
   "cell_type": "markdown",
   "id": "eceb42e7",
   "metadata": {},
   "source": [
    "##### First standard deviation of fare (lower bound)"
   ]
  },
  {
   "cell_type": "code",
   "execution_count": 35,
   "id": "850144e5",
   "metadata": {},
   "outputs": [
    {
     "data": {
      "text/plain": [
       "1.539268328020034"
      ]
     },
     "execution_count": 35,
     "metadata": {},
     "output_type": "execute_result"
    }
   ],
   "source": [
    "bfare_mean - fare_standard_deviation"
   ]
  },
  {
   "cell_type": "markdown",
   "id": "ead44c3e",
   "metadata": {},
   "source": [
    "##### Second standard deviation of fare (lowerbound)"
   ]
  },
  {
   "cell_type": "code",
   "execution_count": 36,
   "id": "5561fa73",
   "metadata": {},
   "outputs": [
    {
     "data": {
      "text/plain": [
       "-10.012535938394876"
      ]
     },
     "execution_count": 36,
     "metadata": {},
     "output_type": "execute_result"
    }
   ],
   "source": [
    "fare_mean - (2*fare_standard_deviation)"
   ]
  },
  {
   "cell_type": "markdown",
   "id": "001ec05b",
   "metadata": {},
   "source": [
    "##### Third standard deviation of fare (lowerbound)"
   ]
  },
  {
   "cell_type": "code",
   "execution_count": 37,
   "id": "60758615",
   "metadata": {},
   "outputs": [
    {
     "data": {
      "text/plain": [
       "-21.564340204809785"
      ]
     },
     "execution_count": 37,
     "metadata": {},
     "output_type": "execute_result"
    }
   ],
   "source": [
    "fare_mean - (3*fare_standard_deviation)"
   ]
  },
  {
   "cell_type": "code",
   "execution_count": 47,
   "id": "53044690",
   "metadata": {},
   "outputs": [
    {
     "data": {
      "text/html": [
       "<div>\n",
       "<style scoped>\n",
       "    .dataframe tbody tr th:only-of-type {\n",
       "        vertical-align: middle;\n",
       "    }\n",
       "\n",
       "    .dataframe tbody tr th {\n",
       "        vertical-align: top;\n",
       "    }\n",
       "\n",
       "    .dataframe thead th {\n",
       "        text-align: right;\n",
       "    }\n",
       "</style>\n",
       "<table border=\"1\" class=\"dataframe\">\n",
       "  <thead>\n",
       "    <tr style=\"text-align: right;\">\n",
       "      <th></th>\n",
       "      <th>Car ID</th>\n",
       "      <th>Brand</th>\n",
       "      <th>Model</th>\n",
       "      <th>Year</th>\n",
       "      <th>Color</th>\n",
       "      <th>Mileage</th>\n",
       "      <th>Price</th>\n",
       "      <th>Location</th>\n",
       "    </tr>\n",
       "  </thead>\n",
       "  <tbody>\n",
       "    <tr>\n",
       "      <th>0</th>\n",
       "      <td>1</td>\n",
       "      <td>Toyota</td>\n",
       "      <td>Camry</td>\n",
       "      <td>2018</td>\n",
       "      <td>White</td>\n",
       "      <td>45000</td>\n",
       "      <td>18000</td>\n",
       "      <td>Los Angeles</td>\n",
       "    </tr>\n",
       "    <tr>\n",
       "      <th>1</th>\n",
       "      <td>2</td>\n",
       "      <td>Honda</td>\n",
       "      <td>Civic</td>\n",
       "      <td>2019</td>\n",
       "      <td>Blue</td>\n",
       "      <td>35000</td>\n",
       "      <td>16000</td>\n",
       "      <td>New York</td>\n",
       "    </tr>\n",
       "    <tr>\n",
       "      <th>2</th>\n",
       "      <td>3</td>\n",
       "      <td>Ford</td>\n",
       "      <td>Focus</td>\n",
       "      <td>2017</td>\n",
       "      <td>Silver</td>\n",
       "      <td>55000</td>\n",
       "      <td>14000</td>\n",
       "      <td>Chicago</td>\n",
       "    </tr>\n",
       "    <tr>\n",
       "      <th>3</th>\n",
       "      <td>4</td>\n",
       "      <td>Chevrolet</td>\n",
       "      <td>Cruze</td>\n",
       "      <td>2016</td>\n",
       "      <td>Red</td>\n",
       "      <td>60000</td>\n",
       "      <td>12000</td>\n",
       "      <td>Miami</td>\n",
       "    </tr>\n",
       "    <tr>\n",
       "      <th>4</th>\n",
       "      <td>5</td>\n",
       "      <td>Hyundai</td>\n",
       "      <td>Elantra</td>\n",
       "      <td>2018</td>\n",
       "      <td>Black</td>\n",
       "      <td>40000</td>\n",
       "      <td>15000</td>\n",
       "      <td>San Francisco</td>\n",
       "    </tr>\n",
       "    <tr>\n",
       "      <th>...</th>\n",
       "      <td>...</td>\n",
       "      <td>...</td>\n",
       "      <td>...</td>\n",
       "      <td>...</td>\n",
       "      <td>...</td>\n",
       "      <td>...</td>\n",
       "      <td>...</td>\n",
       "      <td>...</td>\n",
       "    </tr>\n",
       "    <tr>\n",
       "      <th>1995</th>\n",
       "      <td>1996</td>\n",
       "      <td>Hyundai</td>\n",
       "      <td>Palisade</td>\n",
       "      <td>2019</td>\n",
       "      <td>Silver</td>\n",
       "      <td>65000</td>\n",
       "      <td>22000</td>\n",
       "      <td>San Francisco</td>\n",
       "    </tr>\n",
       "    <tr>\n",
       "      <th>1996</th>\n",
       "      <td>1997</td>\n",
       "      <td>Toyota</td>\n",
       "      <td>Sienna</td>\n",
       "      <td>2018</td>\n",
       "      <td>Red</td>\n",
       "      <td>55000</td>\n",
       "      <td>16000</td>\n",
       "      <td>Dallas</td>\n",
       "    </tr>\n",
       "    <tr>\n",
       "      <th>1997</th>\n",
       "      <td>1998</td>\n",
       "      <td>Honda</td>\n",
       "      <td>Fit</td>\n",
       "      <td>2018</td>\n",
       "      <td>Gray</td>\n",
       "      <td>50000</td>\n",
       "      <td>14000</td>\n",
       "      <td>Atlanta</td>\n",
       "    </tr>\n",
       "    <tr>\n",
       "      <th>1998</th>\n",
       "      <td>1999</td>\n",
       "      <td>Ford</td>\n",
       "      <td>Fusion</td>\n",
       "      <td>2017</td>\n",
       "      <td>White</td>\n",
       "      <td>55000</td>\n",
       "      <td>19000</td>\n",
       "      <td>Phoenix</td>\n",
       "    </tr>\n",
       "    <tr>\n",
       "      <th>1999</th>\n",
       "      <td>2000</td>\n",
       "      <td>Chevrolet</td>\n",
       "      <td>Malibu</td>\n",
       "      <td>2016</td>\n",
       "      <td>Blue</td>\n",
       "      <td>30000</td>\n",
       "      <td>23000</td>\n",
       "      <td>Houston</td>\n",
       "    </tr>\n",
       "  </tbody>\n",
       "</table>\n",
       "<p>2000 rows × 8 columns</p>\n",
       "</div>"
      ],
      "text/plain": [
       "      Car ID      Brand     Model  Year   Color  Mileage  Price       Location\n",
       "0          1     Toyota     Camry  2018   White    45000  18000    Los Angeles\n",
       "1          2      Honda     Civic  2019    Blue    35000  16000       New York\n",
       "2          3       Ford     Focus  2017  Silver    55000  14000        Chicago\n",
       "3          4  Chevrolet     Cruze  2016     Red    60000  12000          Miami\n",
       "4          5    Hyundai   Elantra  2018   Black    40000  15000  San Francisco\n",
       "...      ...        ...       ...   ...     ...      ...    ...            ...\n",
       "1995    1996    Hyundai  Palisade  2019  Silver    65000  22000  San Francisco\n",
       "1996    1997     Toyota    Sienna  2018     Red    55000  16000         Dallas\n",
       "1997    1998      Honda       Fit  2018    Gray    50000  14000        Atlanta\n",
       "1998    1999       Ford    Fusion  2017   White    55000  19000        Phoenix\n",
       "1999    2000  Chevrolet    Malibu  2016    Blue    30000  23000        Houston\n",
       "\n",
       "[2000 rows x 8 columns]"
      ]
     },
     "execution_count": 47,
     "metadata": {},
     "output_type": "execute_result"
    }
   ],
   "source": [
    "cars = pd.read_csv(r\"C:\\Users\\Lenovo\\Documents\\Car Data.csv.xls\")\n",
    "cars"
   ]
  },
  {
   "cell_type": "markdown",
   "id": "85dde9df",
   "metadata": {},
   "source": [
    "##### Mean of price"
   ]
  },
  {
   "cell_type": "code",
   "execution_count": 50,
   "id": "76f0e13f",
   "metadata": {},
   "outputs": [
    {
     "data": {
      "text/plain": [
       "19605.0"
      ]
     },
     "execution_count": 50,
     "metadata": {},
     "output_type": "execute_result"
    }
   ],
   "source": [
    "price_mean = cars['Price'].mean()\n",
    "price_mean"
   ]
  },
  {
   "cell_type": "markdown",
   "id": "1280d01f",
   "metadata": {},
   "source": [
    "##### Range of price"
   ]
  },
  {
   "cell_type": "code",
   "execution_count": 52,
   "id": "3c8464ba",
   "metadata": {},
   "outputs": [
    {
     "data": {
      "text/plain": [
       "17000"
      ]
     },
     "execution_count": 52,
     "metadata": {},
     "output_type": "execute_result"
    }
   ],
   "source": [
    "cars['Price'].max() - cars['Price'].min()"
   ]
  },
  {
   "cell_type": "markdown",
   "id": "236e8892",
   "metadata": {},
   "source": [
    "##### Variance of Price"
   ]
  },
  {
   "cell_type": "code",
   "execution_count": 53,
   "id": "ebb44cc7",
   "metadata": {},
   "outputs": [
    {
     "data": {
      "text/plain": [
       "22825387.693846922"
      ]
     },
     "execution_count": 53,
     "metadata": {},
     "output_type": "execute_result"
    }
   ],
   "source": [
    "cars['Price'].var()"
   ]
  },
  {
   "cell_type": "markdown",
   "id": "808af310",
   "metadata": {},
   "source": [
    "##### Standard deviation"
   ]
  },
  {
   "cell_type": "code",
   "execution_count": 56,
   "id": "4be75315",
   "metadata": {},
   "outputs": [
    {
     "data": {
      "text/plain": [
       "4777.592248596245"
      ]
     },
     "execution_count": 56,
     "metadata": {},
     "output_type": "execute_result"
    }
   ],
   "source": [
    "price_std  = cars['Price'].std()\n",
    "price_std"
   ]
  },
  {
   "cell_type": "markdown",
   "id": "8e7665ff",
   "metadata": {},
   "source": [
    "##### First Standard deviation (upper bound)"
   ]
  },
  {
   "cell_type": "code",
   "execution_count": 58,
   "id": "f23f7e0c",
   "metadata": {},
   "outputs": [
    {
     "data": {
      "text/plain": [
       "24382.592248596244"
      ]
     },
     "execution_count": 58,
     "metadata": {},
     "output_type": "execute_result"
    }
   ],
   "source": [
    "price_mean + price_std"
   ]
  },
  {
   "cell_type": "markdown",
   "id": "77724064",
   "metadata": {},
   "source": [
    "##### Second Standard deviation (upper bound)"
   ]
  },
  {
   "cell_type": "code",
   "execution_count": 60,
   "id": "8940ac21",
   "metadata": {},
   "outputs": [
    {
     "data": {
      "text/plain": [
       "29160.184497192487"
      ]
     },
     "execution_count": 60,
     "metadata": {},
     "output_type": "execute_result"
    }
   ],
   "source": [
    "price_mean + (2*price_std)"
   ]
  },
  {
   "cell_type": "markdown",
   "id": "b0a151e8",
   "metadata": {},
   "source": [
    "##### Third Standard deviation (upper bound)"
   ]
  },
  {
   "cell_type": "code",
   "execution_count": 61,
   "id": "2307949b",
   "metadata": {},
   "outputs": [
    {
     "data": {
      "text/plain": [
       "33937.77674578874"
      ]
     },
     "execution_count": 61,
     "metadata": {},
     "output_type": "execute_result"
    }
   ],
   "source": [
    "price_mean + (3*price_std)"
   ]
  },
  {
   "cell_type": "markdown",
   "id": "3ac07c8c",
   "metadata": {},
   "source": [
    "##### First standard deviation (lower bound)"
   ]
  },
  {
   "cell_type": "code",
   "execution_count": 62,
   "id": "6f8b59f9",
   "metadata": {},
   "outputs": [
    {
     "data": {
      "text/plain": [
       "14827.407751403756"
      ]
     },
     "execution_count": 62,
     "metadata": {},
     "output_type": "execute_result"
    }
   ],
   "source": [
    "price_mean - price_std"
   ]
  },
  {
   "cell_type": "markdown",
   "id": "7a212fed",
   "metadata": {},
   "source": [
    "##### Second standard deviation (lower bound)"
   ]
  },
  {
   "cell_type": "code",
   "execution_count": 64,
   "id": "f485d852",
   "metadata": {},
   "outputs": [
    {
     "data": {
      "text/plain": [
       "10049.81550280751"
      ]
     },
     "execution_count": 64,
     "metadata": {},
     "output_type": "execute_result"
    }
   ],
   "source": [
    "price_mean - (2*price_std)"
   ]
  },
  {
   "cell_type": "markdown",
   "id": "1ba125ba",
   "metadata": {},
   "source": [
    "##### Third standard deviation (lower bound)"
   ]
  },
  {
   "cell_type": "code",
   "execution_count": 65,
   "id": "495aed3a",
   "metadata": {},
   "outputs": [
    {
     "data": {
      "text/plain": [
       "5272.223254211265"
      ]
     },
     "execution_count": 65,
     "metadata": {},
     "output_type": "execute_result"
    }
   ],
   "source": [
    "price_mean - (3*price_std)"
   ]
  },
  {
   "cell_type": "code",
   "execution_count": null,
   "id": "f13ff5bc",
   "metadata": {},
   "outputs": [],
   "source": []
  }
 ],
 "metadata": {
  "kernelspec": {
   "display_name": "Python 3 (ipykernel)",
   "language": "python",
   "name": "python3"
  },
  "language_info": {
   "codemirror_mode": {
    "name": "ipython",
    "version": 3
   },
   "file_extension": ".py",
   "mimetype": "text/x-python",
   "name": "python",
   "nbconvert_exporter": "python",
   "pygments_lexer": "ipython3",
   "version": "3.11.5"
  }
 },
 "nbformat": 4,
 "nbformat_minor": 5
}
